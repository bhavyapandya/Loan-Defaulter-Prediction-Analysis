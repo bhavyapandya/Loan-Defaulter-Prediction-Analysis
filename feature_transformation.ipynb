{
 "cells": [
  {
   "cell_type": "code",
   "execution_count": 2,
   "metadata": {},
   "outputs": [],
   "source": [
    "import pandas as pd\n",
    "\n",
    "data = pd.read_csv(\"D:/Projects/Loan Defaulter Prediction/loan-default-prediction-analysis/nonnull_data.csv\")"
   ]
  },
  {
   "cell_type": "code",
   "execution_count": 3,
   "metadata": {},
   "outputs": [
    {
     "data": {
      "text/html": [
       "<div>\n",
       "<style scoped>\n",
       "    .dataframe tbody tr th:only-of-type {\n",
       "        vertical-align: middle;\n",
       "    }\n",
       "\n",
       "    .dataframe tbody tr th {\n",
       "        vertical-align: top;\n",
       "    }\n",
       "\n",
       "    .dataframe thead th {\n",
       "        text-align: right;\n",
       "    }\n",
       "</style>\n",
       "<table border=\"1\" class=\"dataframe\">\n",
       "  <thead>\n",
       "    <tr style=\"text-align: right;\">\n",
       "      <th></th>\n",
       "      <th>Unnamed: 0</th>\n",
       "      <th>ID</th>\n",
       "      <th>year</th>\n",
       "      <th>loan_amount</th>\n",
       "      <th>term</th>\n",
       "      <th>property_value</th>\n",
       "      <th>income</th>\n",
       "      <th>Credit_Score</th>\n",
       "      <th>LTV</th>\n",
       "      <th>Status</th>\n",
       "      <th>...</th>\n",
       "      <th>construction_type</th>\n",
       "      <th>occupancy_type</th>\n",
       "      <th>Secured_by</th>\n",
       "      <th>total_units</th>\n",
       "      <th>credit_type</th>\n",
       "      <th>co-applicant_credit_type</th>\n",
       "      <th>age</th>\n",
       "      <th>submission_of_application</th>\n",
       "      <th>Region</th>\n",
       "      <th>Security_Type</th>\n",
       "    </tr>\n",
       "  </thead>\n",
       "  <tbody>\n",
       "    <tr>\n",
       "      <th>0</th>\n",
       "      <td>0</td>\n",
       "      <td>24890</td>\n",
       "      <td>2019</td>\n",
       "      <td>116500</td>\n",
       "      <td>360.0</td>\n",
       "      <td>118000.0</td>\n",
       "      <td>1740.0</td>\n",
       "      <td>758</td>\n",
       "      <td>98.728814</td>\n",
       "      <td>1</td>\n",
       "      <td>...</td>\n",
       "      <td>sb</td>\n",
       "      <td>pr</td>\n",
       "      <td>home</td>\n",
       "      <td>1U</td>\n",
       "      <td>EXP</td>\n",
       "      <td>CIB</td>\n",
       "      <td>25-34</td>\n",
       "      <td>to_inst</td>\n",
       "      <td>south</td>\n",
       "      <td>direct</td>\n",
       "    </tr>\n",
       "    <tr>\n",
       "      <th>1</th>\n",
       "      <td>1</td>\n",
       "      <td>24891</td>\n",
       "      <td>2019</td>\n",
       "      <td>206500</td>\n",
       "      <td>360.0</td>\n",
       "      <td>418000.0</td>\n",
       "      <td>4980.0</td>\n",
       "      <td>552</td>\n",
       "      <td>75.135870</td>\n",
       "      <td>1</td>\n",
       "      <td>...</td>\n",
       "      <td>sb</td>\n",
       "      <td>pr</td>\n",
       "      <td>home</td>\n",
       "      <td>1U</td>\n",
       "      <td>EQUI</td>\n",
       "      <td>EXP</td>\n",
       "      <td>55-64</td>\n",
       "      <td>to_inst</td>\n",
       "      <td>North</td>\n",
       "      <td>direct</td>\n",
       "    </tr>\n",
       "    <tr>\n",
       "      <th>2</th>\n",
       "      <td>2</td>\n",
       "      <td>24892</td>\n",
       "      <td>2019</td>\n",
       "      <td>406500</td>\n",
       "      <td>360.0</td>\n",
       "      <td>508000.0</td>\n",
       "      <td>9480.0</td>\n",
       "      <td>834</td>\n",
       "      <td>80.019685</td>\n",
       "      <td>0</td>\n",
       "      <td>...</td>\n",
       "      <td>sb</td>\n",
       "      <td>pr</td>\n",
       "      <td>home</td>\n",
       "      <td>1U</td>\n",
       "      <td>EXP</td>\n",
       "      <td>CIB</td>\n",
       "      <td>35-44</td>\n",
       "      <td>to_inst</td>\n",
       "      <td>south</td>\n",
       "      <td>direct</td>\n",
       "    </tr>\n",
       "    <tr>\n",
       "      <th>3</th>\n",
       "      <td>3</td>\n",
       "      <td>24893</td>\n",
       "      <td>2019</td>\n",
       "      <td>456500</td>\n",
       "      <td>360.0</td>\n",
       "      <td>658000.0</td>\n",
       "      <td>11880.0</td>\n",
       "      <td>587</td>\n",
       "      <td>69.376900</td>\n",
       "      <td>0</td>\n",
       "      <td>...</td>\n",
       "      <td>sb</td>\n",
       "      <td>pr</td>\n",
       "      <td>home</td>\n",
       "      <td>1U</td>\n",
       "      <td>EXP</td>\n",
       "      <td>CIB</td>\n",
       "      <td>45-54</td>\n",
       "      <td>not_inst</td>\n",
       "      <td>North</td>\n",
       "      <td>direct</td>\n",
       "    </tr>\n",
       "    <tr>\n",
       "      <th>4</th>\n",
       "      <td>4</td>\n",
       "      <td>24894</td>\n",
       "      <td>2019</td>\n",
       "      <td>696500</td>\n",
       "      <td>360.0</td>\n",
       "      <td>758000.0</td>\n",
       "      <td>10440.0</td>\n",
       "      <td>602</td>\n",
       "      <td>91.886544</td>\n",
       "      <td>0</td>\n",
       "      <td>...</td>\n",
       "      <td>sb</td>\n",
       "      <td>pr</td>\n",
       "      <td>home</td>\n",
       "      <td>1U</td>\n",
       "      <td>CRIF</td>\n",
       "      <td>EXP</td>\n",
       "      <td>25-34</td>\n",
       "      <td>not_inst</td>\n",
       "      <td>North</td>\n",
       "      <td>direct</td>\n",
       "    </tr>\n",
       "  </tbody>\n",
       "</table>\n",
       "<p>5 rows × 32 columns</p>\n",
       "</div>"
      ],
      "text/plain": [
       "   Unnamed: 0     ID  year  loan_amount   term  property_value   income  \\\n",
       "0           0  24890  2019       116500  360.0        118000.0   1740.0   \n",
       "1           1  24891  2019       206500  360.0        418000.0   4980.0   \n",
       "2           2  24892  2019       406500  360.0        508000.0   9480.0   \n",
       "3           3  24893  2019       456500  360.0        658000.0  11880.0   \n",
       "4           4  24894  2019       696500  360.0        758000.0  10440.0   \n",
       "\n",
       "   Credit_Score        LTV  Status  ...  construction_type occupancy_type  \\\n",
       "0           758  98.728814       1  ...                 sb             pr   \n",
       "1           552  75.135870       1  ...                 sb             pr   \n",
       "2           834  80.019685       0  ...                 sb             pr   \n",
       "3           587  69.376900       0  ...                 sb             pr   \n",
       "4           602  91.886544       0  ...                 sb             pr   \n",
       "\n",
       "  Secured_by total_units credit_type co-applicant_credit_type    age  \\\n",
       "0       home          1U         EXP                      CIB  25-34   \n",
       "1       home          1U        EQUI                      EXP  55-64   \n",
       "2       home          1U         EXP                      CIB  35-44   \n",
       "3       home          1U         EXP                      CIB  45-54   \n",
       "4       home          1U        CRIF                      EXP  25-34   \n",
       "\n",
       "  submission_of_application Region Security_Type  \n",
       "0                   to_inst  south        direct  \n",
       "1                   to_inst  North        direct  \n",
       "2                   to_inst  south        direct  \n",
       "3                  not_inst  North        direct  \n",
       "4                  not_inst  North        direct  \n",
       "\n",
       "[5 rows x 32 columns]"
      ]
     },
     "execution_count": 3,
     "metadata": {},
     "output_type": "execute_result"
    }
   ],
   "source": [
    "data.head()"
   ]
  },
  {
   "cell_type": "code",
   "execution_count": 4,
   "metadata": {},
   "outputs": [
    {
     "data": {
      "text/plain": [
       "Index(['Unnamed: 0', 'ID', 'year', 'loan_amount', 'term', 'property_value',\n",
       "       'income', 'Credit_Score', 'LTV', 'Status', 'dtir1', 'loan_limit',\n",
       "       'Gender', 'approv_in_adv', 'loan_type', 'loan_purpose',\n",
       "       'Credit_Worthiness', 'open_credit', 'business_or_commercial',\n",
       "       'Neg_ammortization', 'interest_only', 'lump_sum_payment',\n",
       "       'construction_type', 'occupancy_type', 'Secured_by', 'total_units',\n",
       "       'credit_type', 'co-applicant_credit_type', 'age',\n",
       "       'submission_of_application', 'Region', 'Security_Type'],\n",
       "      dtype='object')"
      ]
     },
     "execution_count": 4,
     "metadata": {},
     "output_type": "execute_result"
    }
   ],
   "source": [
    "data.columns"
   ]
  },
  {
   "cell_type": "code",
   "execution_count": 5,
   "metadata": {},
   "outputs": [],
   "source": [
    "# we dont need below columns because they do not contrivute to output variable and have very low standard deviation\n",
    "drop_cols = ['Unnamed: 0', 'ID', 'year', 'Security_Type','LTV']\n",
    "\n",
    "data.drop(columns=drop_cols, inplace=True)"
   ]
  },
  {
   "cell_type": "code",
   "execution_count": 6,
   "metadata": {},
   "outputs": [
    {
     "data": {
      "text/plain": [
       "Index(['loan_amount', 'term', 'property_value', 'income', 'Credit_Score',\n",
       "       'Status', 'dtir1', 'loan_limit', 'Gender', 'approv_in_adv', 'loan_type',\n",
       "       'loan_purpose', 'Credit_Worthiness', 'open_credit',\n",
       "       'business_or_commercial', 'Neg_ammortization', 'interest_only',\n",
       "       'lump_sum_payment', 'construction_type', 'occupancy_type', 'Secured_by',\n",
       "       'total_units', 'credit_type', 'co-applicant_credit_type', 'age',\n",
       "       'submission_of_application', 'Region'],\n",
       "      dtype='object')"
      ]
     },
     "execution_count": 6,
     "metadata": {},
     "output_type": "execute_result"
    }
   ],
   "source": [
    "data.columns"
   ]
  },
  {
   "cell_type": "code",
   "execution_count": 7,
   "metadata": {},
   "outputs": [
    {
     "data": {
      "text/html": [
       "<div>\n",
       "<style scoped>\n",
       "    .dataframe tbody tr th:only-of-type {\n",
       "        vertical-align: middle;\n",
       "    }\n",
       "\n",
       "    .dataframe tbody tr th {\n",
       "        vertical-align: top;\n",
       "    }\n",
       "\n",
       "    .dataframe thead th {\n",
       "        text-align: right;\n",
       "    }\n",
       "</style>\n",
       "<table border=\"1\" class=\"dataframe\">\n",
       "  <thead>\n",
       "    <tr style=\"text-align: right;\">\n",
       "      <th></th>\n",
       "      <th>loan_amount</th>\n",
       "      <th>term</th>\n",
       "      <th>property_value</th>\n",
       "      <th>income</th>\n",
       "      <th>Credit_Score</th>\n",
       "      <th>Status</th>\n",
       "      <th>dtir1</th>\n",
       "      <th>loan_limit</th>\n",
       "      <th>Gender</th>\n",
       "      <th>approv_in_adv</th>\n",
       "      <th>...</th>\n",
       "      <th>lump_sum_payment</th>\n",
       "      <th>construction_type</th>\n",
       "      <th>occupancy_type</th>\n",
       "      <th>Secured_by</th>\n",
       "      <th>total_units</th>\n",
       "      <th>credit_type</th>\n",
       "      <th>co-applicant_credit_type</th>\n",
       "      <th>age</th>\n",
       "      <th>submission_of_application</th>\n",
       "      <th>Region</th>\n",
       "    </tr>\n",
       "  </thead>\n",
       "  <tbody>\n",
       "    <tr>\n",
       "      <th>0</th>\n",
       "      <td>116500</td>\n",
       "      <td>360.0</td>\n",
       "      <td>118000.0</td>\n",
       "      <td>1740.0</td>\n",
       "      <td>758</td>\n",
       "      <td>1</td>\n",
       "      <td>45.0</td>\n",
       "      <td>cf</td>\n",
       "      <td>Sex Not Available</td>\n",
       "      <td>nopre</td>\n",
       "      <td>...</td>\n",
       "      <td>not_lpsm</td>\n",
       "      <td>sb</td>\n",
       "      <td>pr</td>\n",
       "      <td>home</td>\n",
       "      <td>1U</td>\n",
       "      <td>EXP</td>\n",
       "      <td>CIB</td>\n",
       "      <td>25-34</td>\n",
       "      <td>to_inst</td>\n",
       "      <td>south</td>\n",
       "    </tr>\n",
       "    <tr>\n",
       "      <th>1</th>\n",
       "      <td>206500</td>\n",
       "      <td>360.0</td>\n",
       "      <td>418000.0</td>\n",
       "      <td>4980.0</td>\n",
       "      <td>552</td>\n",
       "      <td>1</td>\n",
       "      <td>39.0</td>\n",
       "      <td>cf</td>\n",
       "      <td>Male</td>\n",
       "      <td>nopre</td>\n",
       "      <td>...</td>\n",
       "      <td>lpsm</td>\n",
       "      <td>sb</td>\n",
       "      <td>pr</td>\n",
       "      <td>home</td>\n",
       "      <td>1U</td>\n",
       "      <td>EQUI</td>\n",
       "      <td>EXP</td>\n",
       "      <td>55-64</td>\n",
       "      <td>to_inst</td>\n",
       "      <td>North</td>\n",
       "    </tr>\n",
       "    <tr>\n",
       "      <th>2</th>\n",
       "      <td>406500</td>\n",
       "      <td>360.0</td>\n",
       "      <td>508000.0</td>\n",
       "      <td>9480.0</td>\n",
       "      <td>834</td>\n",
       "      <td>0</td>\n",
       "      <td>46.0</td>\n",
       "      <td>cf</td>\n",
       "      <td>Male</td>\n",
       "      <td>pre</td>\n",
       "      <td>...</td>\n",
       "      <td>not_lpsm</td>\n",
       "      <td>sb</td>\n",
       "      <td>pr</td>\n",
       "      <td>home</td>\n",
       "      <td>1U</td>\n",
       "      <td>EXP</td>\n",
       "      <td>CIB</td>\n",
       "      <td>35-44</td>\n",
       "      <td>to_inst</td>\n",
       "      <td>south</td>\n",
       "    </tr>\n",
       "    <tr>\n",
       "      <th>3</th>\n",
       "      <td>456500</td>\n",
       "      <td>360.0</td>\n",
       "      <td>658000.0</td>\n",
       "      <td>11880.0</td>\n",
       "      <td>587</td>\n",
       "      <td>0</td>\n",
       "      <td>42.0</td>\n",
       "      <td>cf</td>\n",
       "      <td>Male</td>\n",
       "      <td>nopre</td>\n",
       "      <td>...</td>\n",
       "      <td>not_lpsm</td>\n",
       "      <td>sb</td>\n",
       "      <td>pr</td>\n",
       "      <td>home</td>\n",
       "      <td>1U</td>\n",
       "      <td>EXP</td>\n",
       "      <td>CIB</td>\n",
       "      <td>45-54</td>\n",
       "      <td>not_inst</td>\n",
       "      <td>North</td>\n",
       "    </tr>\n",
       "    <tr>\n",
       "      <th>4</th>\n",
       "      <td>696500</td>\n",
       "      <td>360.0</td>\n",
       "      <td>758000.0</td>\n",
       "      <td>10440.0</td>\n",
       "      <td>602</td>\n",
       "      <td>0</td>\n",
       "      <td>39.0</td>\n",
       "      <td>cf</td>\n",
       "      <td>Joint</td>\n",
       "      <td>pre</td>\n",
       "      <td>...</td>\n",
       "      <td>not_lpsm</td>\n",
       "      <td>sb</td>\n",
       "      <td>pr</td>\n",
       "      <td>home</td>\n",
       "      <td>1U</td>\n",
       "      <td>CRIF</td>\n",
       "      <td>EXP</td>\n",
       "      <td>25-34</td>\n",
       "      <td>not_inst</td>\n",
       "      <td>North</td>\n",
       "    </tr>\n",
       "  </tbody>\n",
       "</table>\n",
       "<p>5 rows × 27 columns</p>\n",
       "</div>"
      ],
      "text/plain": [
       "   loan_amount   term  property_value   income  Credit_Score  Status  dtir1  \\\n",
       "0       116500  360.0        118000.0   1740.0           758       1   45.0   \n",
       "1       206500  360.0        418000.0   4980.0           552       1   39.0   \n",
       "2       406500  360.0        508000.0   9480.0           834       0   46.0   \n",
       "3       456500  360.0        658000.0  11880.0           587       0   42.0   \n",
       "4       696500  360.0        758000.0  10440.0           602       0   39.0   \n",
       "\n",
       "  loan_limit             Gender approv_in_adv  ... lump_sum_payment  \\\n",
       "0         cf  Sex Not Available         nopre  ...         not_lpsm   \n",
       "1         cf               Male         nopre  ...             lpsm   \n",
       "2         cf               Male           pre  ...         not_lpsm   \n",
       "3         cf               Male         nopre  ...         not_lpsm   \n",
       "4         cf              Joint           pre  ...         not_lpsm   \n",
       "\n",
       "  construction_type occupancy_type Secured_by total_units credit_type  \\\n",
       "0                sb             pr       home          1U         EXP   \n",
       "1                sb             pr       home          1U        EQUI   \n",
       "2                sb             pr       home          1U         EXP   \n",
       "3                sb             pr       home          1U         EXP   \n",
       "4                sb             pr       home          1U        CRIF   \n",
       "\n",
       "  co-applicant_credit_type    age submission_of_application Region  \n",
       "0                      CIB  25-34                   to_inst  south  \n",
       "1                      EXP  55-64                   to_inst  North  \n",
       "2                      CIB  35-44                   to_inst  south  \n",
       "3                      CIB  45-54                  not_inst  North  \n",
       "4                      EXP  25-34                  not_inst  North  \n",
       "\n",
       "[5 rows x 27 columns]"
      ]
     },
     "execution_count": 7,
     "metadata": {},
     "output_type": "execute_result"
    }
   ],
   "source": [
    "data.head()"
   ]
  },
  {
   "cell_type": "code",
   "execution_count": 8,
   "metadata": {},
   "outputs": [
    {
     "name": "stdout",
     "output_type": "stream",
     "text": [
      "[66.22096003 76.7390476  91.23401496 ... 93.43793979 75.76778563\n",
      " 91.23401496]\n",
      "Lambda: 0.2434926897267231\n"
     ]
    },
    {
     "name": "stderr",
     "output_type": "stream",
     "text": [
      "C:\\Users\\bhavy\\anaconda3\\lib\\site-packages\\seaborn\\distributions.py:2619: FutureWarning: `distplot` is a deprecated function and will be removed in a future version. Please adapt your code to use either `displot` (a figure-level function with similar flexibility) or `histplot` (an axes-level function for histograms).\n",
      "  warnings.warn(msg, FutureWarning)\n"
     ]
    },
    {
     "data": {
      "image/png": "[encoded data removed]",
      "text/plain": [
       "<Figure size 432x288 with 1 Axes>"
      ]
     },
     "metadata": {
      "needs_background": "light"
     },
     "output_type": "display_data"
    }
   ],
   "source": [
    "# Lets start feature transformation\n",
    "\n",
    "# 1. Lets start with loan_amount\n",
    "from scipy import stats\n",
    "import seaborn as sns\n",
    "import matplotlib.pyplot as plt\n",
    "# Apply Box-Cox transformation\n",
    "transformed_data, lambda_value = stats.boxcox(data['loan_amount'])\n",
    "\n",
    "print(transformed_data)\n",
    "print('Lambda:', lambda_value)\n",
    "\n",
    "sns.distplot(transformed_data, kde=True)\n",
    "plt.title('loan_amount')  # Set the title of the plot to the column name\n",
    "plt.show()"
   ]
  },
  {
   "cell_type": "code",
   "execution_count": 9,
   "metadata": {},
   "outputs": [],
   "source": [
    "# term column contains only 26 unique values so we will convert it to the categotcial column\n",
    "# Convert the numeric column to categorical\n",
    "data['term'] = data['term'].astype('object')"
   ]
  },
  {
   "cell_type": "code",
   "execution_count": 10,
   "metadata": {},
   "outputs": [
    {
     "name": "stdout",
     "output_type": "stream",
     "text": [
      "[14.03583347 15.87890586 16.16945748 ... 16.71016096 15.27676358\n",
      " 16.30995477]\n",
      "Lambda: 0.030579570108208887\n"
     ]
    },
    {
     "name": "stderr",
     "output_type": "stream",
     "text": [
      "C:\\Users\\bhavy\\anaconda3\\lib\\site-packages\\seaborn\\distributions.py:2619: FutureWarning: `distplot` is a deprecated function and will be removed in a future version. Please adapt your code to use either `displot` (a figure-level function with similar flexibility) or `histplot` (an axes-level function for histograms).\n",
      "  warnings.warn(msg, FutureWarning)\n"
     ]
    },
    {
     "data": {
      "image/png": "[encoded data removed]",
      "text/plain": [
       "<Figure size 432x288 with 1 Axes>"
      ]
     },
     "metadata": {
      "needs_background": "light"
     },
     "output_type": "display_data"
    }
   ],
   "source": [
    "# Apply Box-Cox transformation\n",
    "transformed_data_property_val, lambda_value = stats.boxcox(data['property_value'])\n",
    "\n",
    "print(transformed_data_property_val)\n",
    "print('Lambda:', lambda_value)\n",
    "\n",
    "sns.distplot(transformed_data_property_val, kde=True)\n",
    "plt.title('property_value')  # Set the title of the plot to the column name\n",
    "plt.show()"
   ]
  },
  {
   "cell_type": "code",
   "execution_count": 11,
   "metadata": {},
   "outputs": [
    {
     "name": "stdout",
     "output_type": "stream",
     "text": [
      "[35.24213629 51.95360241 65.61942256 ... 58.49621347 59.22590199\n",
      " 59.58473677]\n",
      "Lambda: 0.34558606946323084\n"
     ]
    },
    {
     "name": "stderr",
     "output_type": "stream",
     "text": [
      "C:\\Users\\bhavy\\anaconda3\\lib\\site-packages\\seaborn\\distributions.py:2619: FutureWarning: `distplot` is a deprecated function and will be removed in a future version. Please adapt your code to use either `displot` (a figure-level function with similar flexibility) or `histplot` (an axes-level function for histograms).\n",
      "  warnings.warn(msg, FutureWarning)\n"
     ]
    },
    {
     "data": {
      "image/png": "[encoded data removed]",
      "text/plain": [
       "<Figure size 432x288 with 1 Axes>"
      ]
     },
     "metadata": {
      "needs_background": "light"
     },
     "output_type": "display_data"
    }
   ],
   "source": [
    "# Apply Box-Cox transformation\n",
    "# Add a constant value\n",
    "constant = 0.001\n",
    "transformed_data_income, lambda_value = stats.boxcox(data['income'] + constant)\n",
    "\n",
    "print(transformed_data_income)\n",
    "print('Lambda:', lambda_value)\n",
    "\n",
    "\n",
    "sns.distplot(transformed_data_income, kde=True)\n",
    "plt.title('income')  # Set the title of the plot to the column name\n",
    "plt.show()"
   ]
  },
  {
   "cell_type": "code",
   "execution_count": 12,
   "metadata": {},
   "outputs": [
    {
     "name": "stderr",
     "output_type": "stream",
     "text": [
      "C:\\Users\\bhavy\\anaconda3\\lib\\site-packages\\seaborn\\distributions.py:2619: FutureWarning: `distplot` is a deprecated function and will be removed in a future version. Please adapt your code to use either `displot` (a figure-level function with similar flexibility) or `histplot` (an axes-level function for histograms).\n",
      "  warnings.warn(msg, FutureWarning)\n"
     ]
    },
    {
     "data": {
      "image/png": "[encoded data removed]",
      "text/plain": [
       "<Figure size 432x288 with 1 Axes>"
      ]
     },
     "metadata": {
      "needs_background": "light"
     },
     "output_type": "display_data"
    }
   ],
   "source": [
    "from sklearn.preprocessing import StandardScaler\n",
    "\n",
    "# Create a StandardScaler object\n",
    "scaler = StandardScaler()\n",
    "\n",
    "# Fit and transform the variable\n",
    "transformed_data_credit_Score = scaler.fit_transform(data[['Credit_Score']])\n",
    "sns.distplot(transformed_data_credit_Score, kde=True)\n",
    "plt.title('Credit_Score')  # Set the title of the plot to the column name\n",
    "plt.show()"
   ]
  },
  {
   "cell_type": "code",
   "execution_count": 13,
   "metadata": {},
   "outputs": [
    {
     "name": "stdout",
     "output_type": "stream",
     "text": [
      "[273.57700229 217.53207829 283.37763303 ... 313.54441885 135.26385734\n",
      " 263.9057229 ]\n",
      "Lambda: 1.597855010676073\n"
     ]
    },
    {
     "name": "stderr",
     "output_type": "stream",
     "text": [
      "C:\\Users\\bhavy\\anaconda3\\lib\\site-packages\\seaborn\\distributions.py:2619: FutureWarning: `distplot` is a deprecated function and will be removed in a future version. Please adapt your code to use either `displot` (a figure-level function with similar flexibility) or `histplot` (an axes-level function for histograms).\n",
      "  warnings.warn(msg, FutureWarning)\n"
     ]
    },
    {
     "data": {
      "image/png": "[encoded data removed]",
      "text/plain": [
       "<Figure size 432x288 with 1 Axes>"
      ]
     },
     "metadata": {
      "needs_background": "light"
     },
     "output_type": "display_data"
    }
   ],
   "source": [
    "constant = 0.001\n",
    "transformed_data_dtir1, lambda_value = stats.boxcox(data['dtir1'] + constant)\n",
    "\n",
    "print(transformed_data_dtir1)\n",
    "print('Lambda:', lambda_value)\n",
    "\n",
    "\n",
    "sns.distplot(transformed_data_dtir1, kde=True)\n",
    "plt.title('income')  # Set the title of the plot to the column name\n",
    "plt.show()"
   ]
  },
  {
   "cell_type": "code",
   "execution_count": 14,
   "metadata": {},
   "outputs": [
    {
     "data": {
      "image/png": "[encoded data removed]",
      "text/plain": [
       "<Figure size 432x288 with 1 Axes>"
      ]
     },
     "metadata": {
      "needs_background": "light"
     },
     "output_type": "display_data"
    }
   ],
   "source": [
    "# now lets handle categorical column\n",
    "status_counts = data['Status'].value_counts()\n",
    "\n",
    "plt.bar(status_counts.index, status_counts.values)\n",
    "plt.show()"
   ]
  },
  {
   "cell_type": "code",
   "execution_count": 15,
   "metadata": {},
   "outputs": [],
   "source": [
    "from sklearn.preprocessing import LabelEncoder\n",
    "label_encoder = LabelEncoder()\n",
    "categoical_cols = data.select_dtypes(include='object')\n",
    "for col in categoical_cols:\n",
    "    data[col] = label_encoder.fit_transform(data[col])"
   ]
  },
  {
   "cell_type": "code",
   "execution_count": 16,
   "metadata": {},
   "outputs": [],
   "source": [
    "data['loan_amount'] = pd.Series(transformed_data)\n",
    "data['property_value'] = pd.Series(transformed_data_property_val)\n",
    "data['income'] = pd.Series(transformed_data_income)\n",
    "data['Credit_Score'] = pd.Series(transformed_data_credit_Score.reshape(-1))\n",
    "data['dtir1'] = pd.Series(transformed_data_dtir1)"
   ]
  },
  {
   "cell_type": "code",
   "execution_count": 20,
   "metadata": {},
   "outputs": [
    {
     "name": "stdout",
     "output_type": "stream",
     "text": [
      "Original Data:\n",
      "        loan_amount  term  property_value     income  Credit_Score  \\\n",
      "0         66.220960    25       14.035833  35.242136      0.502357   \n",
      "1         76.739048    25       15.878906  51.953602     -1.275413   \n",
      "2         91.234015    25       16.169457  65.619423      1.158234   \n",
      "3         93.965439    25       16.557642  71.176576     -0.973365   \n",
      "4        104.591376    25       16.771216  67.941821     -0.843916   \n",
      "...             ...   ...             ...        ...           ...   \n",
      "148665    92.901426     8       16.438740  61.323002     -0.352008   \n",
      "148666   100.135684    25       16.829972  59.225902     -1.128704   \n",
      "148667    93.437940     8       16.710161  58.496213      0.019080   \n",
      "148668    75.767786     8       15.276764  59.225902      0.321128   \n",
      "148669    91.234015    13       16.309955  59.584737      1.123714   \n",
      "\n",
      "             dtir1  loan_limit  Gender  approv_in_adv  loan_type  ...  \\\n",
      "0       273.577002           0       3              0          0  ...   \n",
      "1       217.532078           0       2              0          1  ...   \n",
      "2       283.377633           0       2              1          0  ...   \n",
      "3       244.955954           0       2              0          0  ...   \n",
      "4       217.532078           0       1              1          0  ...   \n",
      "...            ...         ...     ...            ...        ...  ...   \n",
      "148665  303.362429           0       3              0          0  ...   \n",
      "148666   46.769126           0       2              0          0  ...   \n",
      "148667  313.544419           0       2              0          0  ...   \n",
      "148668  135.263857           0       0              0          0  ...   \n",
      "148669  263.905723           0       0              0          0  ...   \n",
      "\n",
      "        lump_sum_payment  construction_type  occupancy_type  Secured_by  \\\n",
      "0                      1                  1               1           0   \n",
      "1                      0                  1               1           0   \n",
      "2                      1                  1               1           0   \n",
      "3                      1                  1               1           0   \n",
      "4                      1                  1               1           0   \n",
      "...                  ...                ...             ...         ...   \n",
      "148665                 1                  1               1           0   \n",
      "148666                 1                  1               0           0   \n",
      "148667                 1                  1               1           0   \n",
      "148668                 1                  1               1           0   \n",
      "148669                 1                  1               1           0   \n",
      "\n",
      "        total_units  credit_type  co-applicant_credit_type  age  \\\n",
      "0                 0            3                         0    0   \n",
      "1                 0            2                         1    3   \n",
      "2                 0            3                         0    1   \n",
      "3                 0            3                         0    2   \n",
      "4                 0            1                         1    0   \n",
      "...             ...          ...                       ...  ...   \n",
      "148665            0            0                         1    3   \n",
      "148666            3            0                         0    0   \n",
      "148667            0            0                         1    2   \n",
      "148668            0            3                         1    3   \n",
      "148669            0            0                         0    2   \n",
      "\n",
      "        submission_of_application  Region  \n",
      "0                               1       3  \n",
      "1                               1       0  \n",
      "2                               1       3  \n",
      "3                               0       0  \n",
      "4                               0       0  \n",
      "...                           ...     ...  \n",
      "148665                          1       3  \n",
      "148666                          0       3  \n",
      "148667                          0       0  \n",
      "148668                          1       0  \n",
      "148669                          0       0  \n",
      "\n",
      "[148670 rows x 26 columns]\n",
      "0         1\n",
      "1         1\n",
      "2         0\n",
      "3         0\n",
      "4         0\n",
      "         ..\n",
      "148665    0\n",
      "148666    0\n",
      "148667    0\n",
      "148668    0\n",
      "148669    0\n",
      "Name: Status, Length: 148670, dtype: int64\n",
      "Resampled Data:\n",
      "        loan_amount  term  property_value     income  Credit_Score  \\\n",
      "0         66.220960    25       14.035833  35.242136      0.502357   \n",
      "1         76.739048    25       15.878906  51.953602     -1.275413   \n",
      "2         91.234015    25       16.169457  65.619423      1.158234   \n",
      "3         93.965439    25       16.557642  71.176576     -0.973365   \n",
      "4        104.591376    25       16.771216  67.941821     -0.843916   \n",
      "...             ...   ...             ...        ...           ...   \n",
      "232045    94.614985    25       16.279948  72.358386      1.105054   \n",
      "232046    90.069944    25       15.878906  51.349632     -0.665617   \n",
      "232047    88.206467    25       15.688076  54.782138     -1.298752   \n",
      "232048    87.783172    25       15.661087  54.782138     -1.084487   \n",
      "232049    88.620310    25       15.714463  54.782138     -1.508232   \n",
      "\n",
      "             dtir1  loan_limit  Gender  approv_in_adv  loan_type  ...  \\\n",
      "0       273.577002           0       3              0          0  ...   \n",
      "1       217.532078           0       2              0          1  ...   \n",
      "2       283.377633           0       2              1          0  ...   \n",
      "3       244.955954           0       2              0          0  ...   \n",
      "4       217.532078           0       1              1          0  ...   \n",
      "...            ...         ...     ...            ...        ...  ...   \n",
      "232045  199.932336           0       0              0          0  ...   \n",
      "232046  217.532078           0       2              0          0  ...   \n",
      "232047  217.532078           0       3              0          1  ...   \n",
      "232048  217.532078           0       3              0          1  ...   \n",
      "232049  217.532078           0       3              0          1  ...   \n",
      "\n",
      "        lump_sum_payment  construction_type  occupancy_type  Secured_by  \\\n",
      "0                      1                  1               1           0   \n",
      "1                      0                  1               1           0   \n",
      "2                      1                  1               1           0   \n",
      "3                      1                  1               1           0   \n",
      "4                      1                  1               1           0   \n",
      "...                  ...                ...             ...         ...   \n",
      "232045                 1                  1               1           0   \n",
      "232046                 1                  1               1           0   \n",
      "232047                 1                  1               1           0   \n",
      "232048                 1                  1               1           0   \n",
      "232049                 1                  1               1           0   \n",
      "\n",
      "        total_units  credit_type  co-applicant_credit_type  age  \\\n",
      "0                 0            3                         0    0   \n",
      "1                 0            2                         1    3   \n",
      "2                 0            3                         0    1   \n",
      "3                 0            3                         0    2   \n",
      "4                 0            1                         1    0   \n",
      "...             ...          ...                       ...  ...   \n",
      "232045            0            3                         0    2   \n",
      "232046            0            2                         1    0   \n",
      "232047            0            3                         0    0   \n",
      "232048            0            3                         0    0   \n",
      "232049            0            3                         0    0   \n",
      "\n",
      "        submission_of_application  Region  \n",
      "0                               1       3  \n",
      "1                               1       0  \n",
      "2                               1       3  \n",
      "3                               0       0  \n",
      "4                               0       0  \n",
      "...                           ...     ...  \n",
      "232045                          1       1  \n",
      "232046                          1       3  \n",
      "232047                          1       3  \n",
      "232048                          1       3  \n",
      "232049                          1       3  \n",
      "\n",
      "[232050 rows x 26 columns]\n",
      "0         1\n",
      "1         1\n",
      "2         0\n",
      "3         0\n",
      "4         0\n",
      "         ..\n",
      "232045    1\n",
      "232046    1\n",
      "232047    1\n",
      "232048    1\n",
      "232049    1\n",
      "Name: Status, Length: 232050, dtype: int64\n"
     ]
    }
   ],
   "source": [
    "\n",
    "from imblearn.over_sampling import ADASYN\n",
    "import pandas as pd\n",
    "\n",
    "\n",
    "\n",
    "# Separate features and labels\n",
    "X = data.drop('Status', axis=1)\n",
    "y = data['Status']\n",
    "\n",
    "# Create ADASYN sampler\n",
    "adasyn_sampler = ADASYN(random_state=42)\n",
    "\n",
    "# Apply ADASYN sampling\n",
    "X_resampled, y_resampled = adasyn_sampler.fit_resample(X, y)\n",
    "\n",
    "print(\"Original Data:\")\n",
    "print(X)\n",
    "print(y)\n",
    "print(\"Resampled Data:\")\n",
    "print(X_resampled)\n",
    "print(y_resampled)"
   ]
  },
  {
   "cell_type": "code",
   "execution_count": 21,
   "metadata": {},
   "outputs": [
    {
     "data": {
      "text/plain": [
       "(232050, 26)"
      ]
     },
     "execution_count": 21,
     "metadata": {},
     "output_type": "execute_result"
    }
   ],
   "source": [
    "X_resampled.shape"
   ]
  },
  {
   "cell_type": "code",
   "execution_count": 22,
   "metadata": {},
   "outputs": [
    {
     "data": {
      "text/plain": [
       "(232050,)"
      ]
     },
     "execution_count": 22,
     "metadata": {},
     "output_type": "execute_result"
    }
   ],
   "source": [
    "y_resampled.shape"
   ]
  },
  {
   "cell_type": "code",
   "execution_count": 23,
   "metadata": {},
   "outputs": [
    {
     "data": {
      "image/png": "[encoded data removed]",
      "text/plain": [
       "<Figure size 432x288 with 1 Axes>"
      ]
     },
     "metadata": {
      "needs_background": "light"
     },
     "output_type": "display_data"
    }
   ],
   "source": [
    "sampled_df = pd.concat([X_resampled, y_resampled], axis=1)\n",
    "# now lets handle categorical column\n",
    "status_counts = sampled_df['Status'].value_counts()\n",
    "\n",
    "plt.bar(status_counts.index, status_counts.values)\n",
    "plt.show()"
   ]
  },
  {
   "cell_type": "code",
   "execution_count": 24,
   "metadata": {},
   "outputs": [
    {
     "name": "stdout",
     "output_type": "stream",
     "text": [
      "<class 'pandas.core.frame.DataFrame'>\n",
      "RangeIndex: 232050 entries, 0 to 232049\n",
      "Data columns (total 27 columns):\n",
      " #   Column                     Non-Null Count   Dtype  \n",
      "---  ------                     --------------   -----  \n",
      " 0   loan_amount                232050 non-null  float64\n",
      " 1   term                       232050 non-null  int32  \n",
      " 2   property_value             232050 non-null  float64\n",
      " 3   income                     232050 non-null  float64\n",
      " 4   Credit_Score               232050 non-null  float64\n",
      " 5   dtir1                      232050 non-null  float64\n",
      " 6   loan_limit                 232050 non-null  int32  \n",
      " 7   Gender                     232050 non-null  int32  \n",
      " 8   approv_in_adv              232050 non-null  int32  \n",
      " 9   loan_type                  232050 non-null  int32  \n",
      " 10  loan_purpose               232050 non-null  int32  \n",
      " 11  Credit_Worthiness          232050 non-null  int32  \n",
      " 12  open_credit                232050 non-null  int32  \n",
      " 13  business_or_commercial     232050 non-null  int32  \n",
      " 14  Neg_ammortization          232050 non-null  int32  \n",
      " 15  interest_only              232050 non-null  int32  \n",
      " 16  lump_sum_payment           232050 non-null  int32  \n",
      " 17  construction_type          232050 non-null  int32  \n",
      " 18  occupancy_type             232050 non-null  int32  \n",
      " 19  Secured_by                 232050 non-null  int32  \n",
      " 20  total_units                232050 non-null  int32  \n",
      " 21  credit_type                232050 non-null  int32  \n",
      " 22  co-applicant_credit_type   232050 non-null  int32  \n",
      " 23  age                        232050 non-null  int32  \n",
      " 24  submission_of_application  232050 non-null  int32  \n",
      " 25  Region                     232050 non-null  int32  \n",
      " 26  Status                     232050 non-null  int64  \n",
      "dtypes: float64(5), int32(21), int64(1)\n",
      "memory usage: 29.2 MB\n"
     ]
    }
   ],
   "source": [
    "# Lets create a final dataframe after performing all the transformations\n",
    "final_df = pd.concat([X_resampled, y_resampled], axis=1)\n",
    "final_df.info()\n"
   ]
  },
  {
   "cell_type": "code",
   "execution_count": 25,
   "metadata": {},
   "outputs": [],
   "source": [
    "# now we have done all the transformations necessary to train a ml model lets save this dataframe\n",
    "final_df.to_csv(\"final.csv\")"
   ]
  },
  {
   "cell_type": "code",
   "execution_count": null,
   "metadata": {},
   "outputs": [],
   "source": []
  }
 ],
 "metadata": {
  "kernelspec": {
   "display_name": "Python 3 (ipykernel)",
   "language": "python",
   "name": "python3"
  },
  "language_info": {
   "codemirror_mode": {
    "name": "ipython",
    "version": 3
   },
   "file_extension": ".py",
   "mimetype": "text/x-python",
   "name": "python",
   "nbconvert_exporter": "python",
   "pygments_lexer": "ipython3",
   "version": "3.9.12"
  }
 },
 "nbformat": 4,
 "nbformat_minor": 2
}
